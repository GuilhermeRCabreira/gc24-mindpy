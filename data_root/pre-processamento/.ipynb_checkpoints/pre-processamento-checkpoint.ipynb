{
 "cells": [
  {
   "cell_type": "code",
   "execution_count": 8,
   "metadata": {},
   "outputs": [],
   "source": [
    "import pandas as pd"
   ]
  },
  {
   "cell_type": "code",
   "execution_count": 9,
   "metadata": {},
   "outputs": [],
   "source": [
    "df=pd.read_csv('../alzheimers_disease_data.csv')"
   ]
  },
  {
   "cell_type": "code",
   "execution_count": 10,
   "metadata": {},
   "outputs": [
    {
     "name": "stdout",
     "output_type": "stream",
     "text": [
      "PatientID                    0\n",
      "Age                          0\n",
      "Gender                       0\n",
      "Ethnicity                    0\n",
      "EducationLevel               0\n",
      "BMI                          0\n",
      "Smoking                      0\n",
      "AlcoholConsumption           0\n",
      "PhysicalActivity             0\n",
      "DietQuality                  0\n",
      "SleepQuality                 0\n",
      "FamilyHistoryAlzheimers      0\n",
      "CardiovascularDisease        0\n",
      "Diabetes                     0\n",
      "Depression                   0\n",
      "HeadInjury                   0\n",
      "Hypertension                 0\n",
      "SystolicBP                   0\n",
      "DiastolicBP                  0\n",
      "CholesterolTotal             0\n",
      "CholesterolLDL               0\n",
      "CholesterolHDL               0\n",
      "CholesterolTriglycerides     0\n",
      "MMSE                         0\n",
      "FunctionalAssessment         0\n",
      "MemoryComplaints             0\n",
      "BehavioralProblems           0\n",
      "ADL                          0\n",
      "Confusion                    0\n",
      "Disorientation               0\n",
      "PersonalityChanges           0\n",
      "DifficultyCompletingTasks    0\n",
      "Forgetfulness                0\n",
      "Diagnosis                    0\n",
      "DoctorInCharge               0\n",
      "dtype: int64\n"
     ]
    }
   ],
   "source": [
    "print(df.isnull().sum())"
   ]
  },
  {
   "cell_type": "code",
   "execution_count": 11,
   "metadata": {},
   "outputs": [
    {
     "name": "stdout",
     "output_type": "stream",
     "text": [
      "0\n"
     ]
    }
   ],
   "source": [
    "print(df.duplicated().sum())"
   ]
  },
  {
   "cell_type": "code",
   "execution_count": 12,
   "metadata": {},
   "outputs": [
    {
     "name": "stdout",
     "output_type": "stream",
     "text": [
      "PatientID                      int64\n",
      "Age                            int64\n",
      "Gender                         int64\n",
      "Ethnicity                      int64\n",
      "EducationLevel                 int64\n",
      "BMI                          float64\n",
      "Smoking                        int64\n",
      "AlcoholConsumption           float64\n",
      "PhysicalActivity             float64\n",
      "DietQuality                  float64\n",
      "SleepQuality                 float64\n",
      "FamilyHistoryAlzheimers        int64\n",
      "CardiovascularDisease          int64\n",
      "Diabetes                       int64\n",
      "Depression                     int64\n",
      "HeadInjury                     int64\n",
      "Hypertension                   int64\n",
      "SystolicBP                     int64\n",
      "DiastolicBP                    int64\n",
      "CholesterolTotal             float64\n",
      "CholesterolLDL               float64\n",
      "CholesterolHDL               float64\n",
      "CholesterolTriglycerides     float64\n",
      "MMSE                         float64\n",
      "FunctionalAssessment         float64\n",
      "MemoryComplaints               int64\n",
      "BehavioralProblems             int64\n",
      "ADL                          float64\n",
      "Confusion                      int64\n",
      "Disorientation                 int64\n",
      "PersonalityChanges             int64\n",
      "DifficultyCompletingTasks      int64\n",
      "Forgetfulness                  int64\n",
      "Diagnosis                      int64\n",
      "DoctorInCharge                object\n",
      "dtype: object\n"
     ]
    }
   ],
   "source": [
    "print(df.dtypes)"
   ]
  },
  {
   "cell_type": "code",
   "execution_count": 13,
   "metadata": {},
   "outputs": [
    {
     "name": "stdout",
     "output_type": "stream",
     "text": [
      "Após verificar os valores e tipos de dados nas colunas não foram identificadas duplicatas ou inconsistências\n"
     ]
    }
   ],
   "source": [
    "print('Após verificar os valores e tipos de dados nas colunas não foram identificadas duplicatas ou inconsistências')"
   ]
  }
 ],
 "metadata": {
  "kernelspec": {
   "display_name": "Python 3 (ipykernel)",
   "language": "python",
   "name": "python3"
  },
  "language_info": {
   "codemirror_mode": {
    "name": "ipython",
    "version": 3
   },
   "file_extension": ".py",
   "mimetype": "text/x-python",
   "name": "python",
   "nbconvert_exporter": "python",
   "pygments_lexer": "ipython3",
   "version": "3.13.0"
  }
 },
 "nbformat": 4,
 "nbformat_minor": 4
}
